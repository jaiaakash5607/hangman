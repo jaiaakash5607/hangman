{
 "cells": [
  {
   "cell_type": "code",
   "execution_count": 20,
   "id": "6c94158e-7319-475d-b7cb-9d76b12ea5d3",
   "metadata": {},
   "outputs": [
    {
     "name": "stdout",
     "output_type": "stream",
     "text": [
      "Current word: _ _ _ _ _\n",
      "Attempts remaining: 6\n"
     ]
    },
    {
     "name": "stdin",
     "output_type": "stream",
     "text": [
      "Guess a letter:  a\n"
     ]
    },
    {
     "name": "stdout",
     "output_type": "stream",
     "text": [
      "Current word: a _ _ _ _\n",
      "Attempts remaining: 6\n"
     ]
    },
    {
     "name": "stdin",
     "output_type": "stream",
     "text": [
      "Guess a letter:  p\n"
     ]
    },
    {
     "name": "stdout",
     "output_type": "stream",
     "text": [
      "Current word: a p p _ _\n",
      "Attempts remaining: 6\n"
     ]
    },
    {
     "name": "stdin",
     "output_type": "stream",
     "text": [
      "Guess a letter:  l\n"
     ]
    },
    {
     "name": "stdout",
     "output_type": "stream",
     "text": [
      "Current word: a p p l _\n",
      "Attempts remaining: 6\n"
     ]
    },
    {
     "name": "stdin",
     "output_type": "stream",
     "text": [
      "Guess a letter:  e\n"
     ]
    },
    {
     "name": "stdout",
     "output_type": "stream",
     "text": [
      "Congratulations! You won.\n"
     ]
    }
   ],
   "source": [
    "import random\n",
    "\n",
    "def choose_word():\n",
    "    words = [\"apple\", \"banana\", \"orange\", \"grape\", \"pear\"]\n",
    "    return random.choice(words)\n",
    "\n",
    "def play_hangman():\n",
    "    word = choose_word()\n",
    "    display = [\"_\" for _ in word]\n",
    "    attempts = 6\n",
    "\n",
    "    while attempts > 0:\n",
    "        print(\"Current word:\", \" \".join(display))\n",
    "        print(\"Attempts remaining:\", attempts)\n",
    "\n",
    "        guess = input(\"Guess a letter: \").lower()\n",
    "\n",
    "        if guess in word:\n",
    "            for i, letter in enumerate(word):\n",
    "                if letter == guess:\n",
    "                    display[i] = guess\n",
    "        else:\n",
    "            attempts -= 1\n",
    "\n",
    "        if \"_\" not in display:\n",
    "            print(\"Congratulations! You won.\")\n",
    "            break\n",
    "\n",
    "    if \"_\" in display:\n",
    "        print(\"Sorry, you ran out of attempts. The word was:\", word)\n",
    "\n",
    "play_hangman()"
   ]
  },
  {
   "cell_type": "code",
   "execution_count": null,
   "id": "41d61305-311e-49e0-a9f9-6e2e236a4f26",
   "metadata": {},
   "outputs": [],
   "source": []
  }
 ],
 "metadata": {
  "kernelspec": {
   "display_name": "Python 3 (ipykernel)",
   "language": "python",
   "name": "python3"
  },
  "language_info": {
   "codemirror_mode": {
    "name": "ipython",
    "version": 3
   },
   "file_extension": ".py",
   "mimetype": "text/x-python",
   "name": "python",
   "nbconvert_exporter": "python",
   "pygments_lexer": "ipython3",
   "version": "3.12.4"
  }
 },
 "nbformat": 4,
 "nbformat_minor": 5
}
